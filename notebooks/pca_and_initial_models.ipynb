{
 "cells": [
  {
   "cell_type": "code",
   "execution_count": 1,
   "id": "3e0fad99",
   "metadata": {},
   "outputs": [],
   "source": [
    "# This Python 3 environment comes with many helpful analytics libraries installed\n",
    "# It is defined by the kaggle/python Docker image: https://github.com/kaggle/docker-python\n",
    "# For example, here's several helpful packages to load\n",
    "\n",
    "import numpy as np # linear algebra\n",
    "import pandas as pd # data processing, CSV file I/O (e.g. pd.read_csv)\n",
    "\n",
    "# Input data files are available in the read-only \"../input/\" directory\n",
    "# For example, running this (by clicking run or pressing Shift+Enter) will list all files under the input directory\n",
    "\n",
    "import os\n",
    "for dirname, _, filenames in os.walk('/kaggle/input'):\n",
    "    for filename in filenames:\n",
    "        print(os.path.join(dirname, filename))\n",
    "\n",
    "# You can write up to 20GB to the current directory (/kaggle/working/) that gets preserved as output when you create a version using \"Save & Run All\" \n",
    "# You can also write temporary files to /kaggle/temp/, but they won't be saved outside of the current session\n",
    "\n",
    "import matplotlib.pyplot as plt"
   ]
  },
  {
   "cell_type": "code",
   "execution_count": null,
   "id": "18d4db35",
   "metadata": {},
   "outputs": [
    {
     "name": "stdout",
     "output_type": "stream",
     "text": [
      "178340\n"
     ]
    }
   ],
   "source": [
    "train_df = pd.read_parquet(f'train_data.parquet')\n",
    "print(len(train_df))"
   ]
  },
  {
   "cell_type": "code",
   "execution_count": null,
   "id": "54fd48bc",
   "metadata": {},
   "outputs": [
    {
     "name": "stdout",
     "output_type": "stream",
     "text": [
      "Removed 299 invalid rows.\n"
     ]
    }
   ],
   "source": [
    "# Get columns that are IV-related (call_iv or put_iv)\n",
    "iv_cols = [col for col in train_df.columns if col.startswith('call_iv_') or col.startswith('put_iv_')]\n",
    "\n",
    "# Create a boolean mask for valid rows (all IV values between 0 and 100 inclusive)\n",
    "# valid_rows_mask = ~((train_df[iv_cols] < 0) | (train_df[iv_cols] > 10)).any(axis=1)\n",
    "valid_rows_mask = ~((train_df[iv_cols] < 0)).any(axis=1)\n",
    "\n",
    "# Apply mask to filter the DataFrame\n",
    "clean_df = train_df[valid_rows_mask].copy()\n",
    "\n",
    "print(f\"Removed {len(train_df) - len(clean_df)} invalid rows.\")"
   ]
  },
  {
   "cell_type": "code",
   "execution_count": 14,
   "id": "11055b0f",
   "metadata": {},
   "outputs": [],
   "source": [
    "X = clean_df.drop(columns=iv_cols)\n",
    "y = clean_df[iv_cols]"
   ]
  },
  {
   "cell_type": "code",
   "execution_count": null,
   "id": "5c5b86f3",
   "metadata": {},
   "outputs": [],
   "source": [
    "X['timestamp'] = pd.to_datetime(X['timestamp'])\n",
    "X['expiry'] = pd.to_datetime(X['expiry'])\n",
    "# X['days_to_expiry'] = (X['expiry'] - X['timestamp']).dt.days\n",
    "X = X.drop(columns=['timestamp', 'expiry'])"
   ]
  },
  {
   "cell_type": "code",
   "execution_count": null,
   "id": "8518f476",
   "metadata": {},
   "outputs": [],
   "source": []
  },
  {
   "cell_type": "markdown",
   "id": "234edd35",
   "metadata": {},
   "source": [
    "# PCA"
   ]
  },
  {
   "cell_type": "code",
   "execution_count": 87,
   "id": "1483bec7",
   "metadata": {},
   "outputs": [
    {
     "name": "stdout",
     "output_type": "stream",
     "text": [
      "Index(['underlying', 'call_iv_23500', 'call_iv_23600', 'call_iv_23700',\n",
      "       'call_iv_23800', 'call_iv_23900', 'call_iv_24000', 'call_iv_24100',\n",
      "       'call_iv_24200', 'call_iv_24300', 'call_iv_24400', 'call_iv_24600',\n",
      "       'call_iv_24700', 'call_iv_24800', 'call_iv_24900', 'call_iv_25000',\n",
      "       'call_iv_25100', 'call_iv_25200', 'call_iv_25300', 'call_iv_25400',\n",
      "       'call_iv_25500', 'call_iv_25600', 'call_iv_25700', 'call_iv_25800',\n",
      "       'call_iv_25900', 'call_iv_26000', 'put_iv_22500', 'put_iv_22600',\n",
      "       'put_iv_22700', 'put_iv_22800', 'put_iv_22900', 'put_iv_23000',\n",
      "       'put_iv_23100', 'put_iv_23200', 'put_iv_23300', 'put_iv_23400',\n",
      "       'put_iv_23500', 'put_iv_23600', 'put_iv_23700', 'put_iv_23800',\n",
      "       'put_iv_23900', 'put_iv_24000', 'put_iv_24100', 'put_iv_24200',\n",
      "       'put_iv_24300', 'put_iv_24400', 'put_iv_24500', 'put_iv_24600',\n",
      "       'put_iv_24700', 'put_iv_24800', 'put_iv_24900', 'put_iv_25000', 'X0',\n",
      "       'X1', 'X2', 'X3', 'X4', 'X5', 'X6', 'X7', 'X8', 'X9', 'X10', 'X11',\n",
      "       'X12', 'X13', 'X14', 'X15', 'X16', 'X17', 'X18', 'X19', 'X20', 'X21',\n",
      "       'X22', 'X23', 'X24', 'X25', 'X26', 'X27', 'X28', 'X29', 'X30', 'X31',\n",
      "       'X32', 'X33', 'X34', 'X35', 'X36', 'X37', 'X38', 'X39', 'X40', 'X41'],\n",
      "      dtype='object')\n"
     ]
    }
   ],
   "source": [
    "X = clean_df.drop(columns=['call_iv_24500'])\n",
    "y = clean_df['call_iv_24500']\n",
    "X = X.drop(columns=['timestamp', 'expiry'])\n",
    "print((X.columns))"
   ]
  },
  {
   "cell_type": "code",
   "execution_count": 88,
   "id": "42ae4d5f",
   "metadata": {},
   "outputs": [],
   "source": [
    "from sklearn.preprocessing import StandardScaler\n",
    "\n",
    "scaler = StandardScaler()\n",
    "X_scaled = scaler.fit_transform(X)"
   ]
  },
  {
   "cell_type": "code",
   "execution_count": 89,
   "id": "8bf019e8",
   "metadata": {},
   "outputs": [],
   "source": [
    "from sklearn.decomposition import PCA\n",
    "\n",
    "pca = PCA()\n",
    "X_pca = pca.fit_transform(X_scaled)\n"
   ]
  },
  {
   "cell_type": "code",
   "execution_count": 90,
   "id": "d14a6097",
   "metadata": {},
   "outputs": [
    {
     "data": {
      "image/png": "[encoded data removed]",
      "text/plain": [
       "<Figure size 720x288 with 1 Axes>"
      ]
     },
     "metadata": {
      "needs_background": "light"
     },
     "output_type": "display_data"
    }
   ],
   "source": [
    "import matplotlib.pyplot as plt\n",
    "import numpy as np\n",
    "\n",
    "plt.figure(figsize=(10, 4))\n",
    "plt.plot(np.cumsum(pca.explained_variance_ratio_), marker='o')\n",
    "plt.xlabel('Number of components')\n",
    "plt.ylabel('Cumulative explained variance')\n",
    "plt.grid(True)\n",
    "plt.title(\"Explained Variance by PCA Components\")\n",
    "plt.show()\n"
   ]
  },
  {
   "cell_type": "code",
   "execution_count": 91,
   "id": "985b5556",
   "metadata": {},
   "outputs": [
    {
     "name": "stdout",
     "output_type": "stream",
     "text": [
      "Number of components explaining 95% variance: 24\n"
     ]
    }
   ],
   "source": [
    "n_components = np.argmax(np.cumsum(pca.explained_variance_ratio_) >= 0.95) + 1\n",
    "print(f\"Number of components explaining 95% variance: {n_components}\")"
   ]
  },
  {
   "cell_type": "code",
   "execution_count": 92,
   "id": "8856ca4d",
   "metadata": {},
   "outputs": [
    {
     "name": "stdout",
     "output_type": "stream",
     "text": [
      "X12              3.368773\n",
      "X8               3.271930\n",
      "X37              3.226900\n",
      "X4               3.100194\n",
      "X10              3.009725\n",
      "X7               2.986069\n",
      "X3               2.858107\n",
      "X11              2.783684\n",
      "X6               2.692003\n",
      "X17              2.679210\n",
      "X35              2.582666\n",
      "X19              2.569756\n",
      "X30              2.547741\n",
      "X36              2.515951\n",
      "X26              2.508419\n",
      "X40              2.502644\n",
      "X13              2.500595\n",
      "X18              2.492402\n",
      "X33              2.460059\n",
      "X41              2.438922\n",
      "X20              2.417166\n",
      "X34              2.414004\n",
      "X27              2.412765\n",
      "X16              2.370106\n",
      "X1               2.356553\n",
      "X21              2.356333\n",
      "X22              2.354969\n",
      "X23              2.342931\n",
      "X14              2.333308\n",
      "X39              2.330768\n",
      "X9               2.264442\n",
      "X32              2.262363\n",
      "X28              2.252286\n",
      "X24              2.249382\n",
      "X25              2.233688\n",
      "X2               2.143262\n",
      "X0               2.125207\n",
      "X29              2.111793\n",
      "underlying       2.042002\n",
      "X15              2.028069\n",
      "X38              2.019898\n",
      "X5               2.010572\n",
      "X31              1.927325\n",
      "put_iv_24400     1.126463\n",
      "call_iv_24400    1.103872\n",
      "put_iv_24300     1.088745\n",
      "call_iv_24300    1.070863\n",
      "call_iv_24200    1.067067\n",
      "put_iv_24200     1.056658\n",
      "put_iv_24500     0.664804\n",
      "dtype: float64\n"
     ]
    }
   ],
   "source": [
    "loading_matrix = pca.components_.T  # shape: (n_features, n_components)\n",
    "feature_importance = np.abs(loading_matrix[:, :n_components]).sum(axis=1)\n",
    "feature_scores = pd.Series(feature_importance, index=X.columns).sort_values(ascending=False)\n",
    "\n",
    "# Top 20 most influential original features\n",
    "top_features = feature_scores.head(50)\n",
    "print(top_features)\n"
   ]
  },
  {
   "cell_type": "code",
   "execution_count": null,
   "id": "7be54332",
   "metadata": {},
   "outputs": [],
   "source": [
    "top_feature_names = top_features.index.tolist()\n",
    "X = X[top_feature_names]\n",
    "y1 = y[['call_iv_23500', 'put_iv_23500']]"
   ]
  },
  {
   "cell_type": "code",
   "execution_count": 97,
   "id": "d5a54114",
   "metadata": {},
   "outputs": [],
   "source": [
    "correlations = clean_df.corr(numeric_only=True)[\"call_iv_24600\"].drop(\"call_iv_24600\").sort_values(ascending=False)"
   ]
  },
  {
   "cell_type": "code",
   "execution_count": 98,
   "id": "235b294b",
   "metadata": {},
   "outputs": [
    {
     "name": "stdout",
     "output_type": "stream",
     "text": [
      "call_iv_24700    0.995141\n",
      "put_iv_24600     0.995056\n",
      "put_iv_24700     0.988995\n",
      "call_iv_24800    0.986712\n",
      "put_iv_24800     0.986341\n",
      "call_iv_24500    0.983982\n",
      "put_iv_24500     0.982484\n",
      "call_iv_24900    0.977955\n",
      "call_iv_25000    0.970525\n",
      "put_iv_25000     0.969546\n",
      "put_iv_24900     0.968751\n",
      "call_iv_25100    0.962704\n",
      "call_iv_25200    0.957713\n",
      "call_iv_25300    0.953105\n",
      "call_iv_25400    0.949805\n",
      "call_iv_25500    0.947611\n",
      "call_iv_25600    0.944102\n",
      "call_iv_25700    0.942534\n",
      "call_iv_25800    0.941680\n",
      "call_iv_25900    0.939433\n",
      "call_iv_26000    0.938038\n",
      "put_iv_22500     0.905139\n",
      "call_iv_23500    0.904660\n",
      "put_iv_22600     0.904290\n",
      "put_iv_22700     0.903337\n",
      "put_iv_22800     0.902151\n",
      "put_iv_22900     0.900058\n",
      "call_iv_23700    0.899576\n",
      "put_iv_23000     0.896907\n",
      "put_iv_23100     0.894884\n",
      "put_iv_23200     0.892917\n",
      "put_iv_23300     0.889603\n",
      "put_iv_23400     0.884540\n",
      "put_iv_23500     0.883042\n",
      "put_iv_23600     0.878716\n",
      "put_iv_23700     0.874450\n",
      "put_iv_23800     0.869918\n",
      "call_iv_23600    0.866130\n",
      "call_iv_23900    0.857921\n",
      "put_iv_23900     0.854630\n",
      "call_iv_24000    0.848864\n",
      "call_iv_23800    0.838678\n",
      "put_iv_24000     0.835943\n",
      "call_iv_24400    0.822341\n",
      "put_iv_24400     0.809763\n",
      "call_iv_24100    0.765422\n",
      "put_iv_24100     0.756091\n",
      "put_iv_24200     0.295776\n",
      "call_iv_24200    0.279166\n",
      "call_iv_24300    0.107125\n",
      "put_iv_24300     0.028524\n",
      "X8               0.016864\n",
      "X30              0.013387\n",
      "X38              0.011726\n",
      "X20              0.011679\n",
      "X16              0.009037\n",
      "X21              0.007055\n",
      "X22              0.006667\n",
      "X27              0.006285\n",
      "X36              0.006239\n",
      "X13              0.004436\n",
      "X40              0.004156\n",
      "X12              0.003935\n",
      "X2               0.003860\n",
      "X1               0.003845\n",
      "X34              0.003607\n",
      "X25              0.003473\n",
      "X10              0.003251\n",
      "X31              0.002751\n",
      "X18              0.002552\n",
      "X28              0.001567\n",
      "X29              0.001300\n",
      "X0               0.001205\n",
      "X23              0.001170\n",
      "X9               0.000973\n",
      "X14              0.000852\n",
      "X17              0.000097\n",
      "X15             -0.000414\n",
      "X24             -0.000756\n",
      "X41             -0.000789\n",
      "X26             -0.001095\n",
      "X19             -0.001233\n",
      "X6              -0.001749\n",
      "X39             -0.002176\n",
      "X5              -0.002641\n",
      "X3              -0.003997\n",
      "X33             -0.004290\n",
      "X35             -0.006808\n",
      "X11             -0.007376\n",
      "X32             -0.009262\n",
      "X4              -0.009473\n",
      "X37             -0.011539\n",
      "X7              -0.012604\n",
      "underlying      -0.243783\n",
      "timestamp       -0.582843\n",
      "Name: call_iv_24600, dtype: float64\n"
     ]
    }
   ],
   "source": [
    "pd.set_option(\"display.max_rows\", None)\n",
    "pd.set_option(\"display.max_columns\", None)\n",
    "print(correlations)"
   ]
  },
  {
   "cell_type": "markdown",
   "id": "0cbc653f",
   "metadata": {},
   "source": [
    "# Regression - Random Forest"
   ]
  },
  {
   "cell_type": "code",
   "execution_count": 44,
   "id": "04105ee4",
   "metadata": {},
   "outputs": [],
   "source": [
    "from sklearn.model_selection import train_test_split\n",
    "\n",
    "X_train, X_test, y1_train, y1_test = train_test_split(X, y1, test_size=0.2, random_state=0)"
   ]
  },
  {
   "cell_type": "code",
   "execution_count": 45,
   "id": "e443aa0d",
   "metadata": {},
   "outputs": [
    {
     "name": "stdout",
     "output_type": "stream",
     "text": [
      "CPU times: total: 8min 24s\n",
      "Wall time: 10min 52s\n"
     ]
    },
    {
     "data": {
      "text/plain": [
       "MultiOutputRegressor(estimator=RandomForestRegressor(random_state=0))"
      ]
     },
     "execution_count": 45,
     "metadata": {},
     "output_type": "execute_result"
    }
   ],
   "source": [
    "from sklearn.ensemble import RandomForestRegressor\n",
    "from sklearn.multioutput import MultiOutputRegressor\n",
    "\n",
    "model = MultiOutputRegressor(RandomForestRegressor(random_state=0))\n",
    "%time model.fit(X_train, y1_train)\n"
   ]
  },
  {
   "cell_type": "code",
   "execution_count": null,
   "id": "cf41d42e",
   "metadata": {},
   "outputs": [
    {
     "name": "stdout",
     "output_type": "stream",
     "text": [
      "MAE: 0.1027\n",
      "MSE: 0.0269\n"
     ]
    }
   ],
   "source": [
    "from sklearn.metrics import mean_absolute_error\n",
    "from sklearn.metrics import mean_squared_error\n",
    "\n",
    "y_pred = model.predict(X_test)\n",
    "mae = mean_absolute_error(y1_test, y_pred)\n",
    "mse = mean_squared_error(y1_test, y_pred)\n",
    "\n",
    "print(f\"MAE: {mae:.4f}\")\n",
    "print(f\"MSE: {mse:.4f}\")"
   ]
  },
  {
   "cell_type": "markdown",
   "id": "6a034d69",
   "metadata": {},
   "source": [
    "# Regression - XGBoost"
   ]
  },
  {
   "cell_type": "code",
   "execution_count": null,
   "id": "200fe6ee",
   "metadata": {},
   "outputs": [],
   "source": [
    "import xgboost as xgb\n",
    "from sklearn.multioutput import MultiOutputRegressor\n",
    "from sklearn.model_selection import train_test_split\n",
    "from sklearn.metrics import mean_absolute_error\n",
    "from sklearn.metrics import mean_squared_error"
   ]
  },
  {
   "cell_type": "code",
   "execution_count": 54,
   "id": "8b56748c",
   "metadata": {},
   "outputs": [
    {
     "name": "stdout",
     "output_type": "stream",
     "text": [
      "52\n"
     ]
    }
   ],
   "source": [
    "print(len(y.columns))"
   ]
  },
  {
   "cell_type": "code",
   "execution_count": null,
   "id": "3387e556",
   "metadata": {},
   "outputs": [],
   "source": [
    "# Split into training and test sets\n",
    "X_train, X_test, y_train, y_test = train_test_split(X, y, test_size=0.2, random_state=42)"
   ]
  },
  {
   "cell_type": "code",
   "execution_count": null,
   "id": "e5dc9b83",
   "metadata": {},
   "outputs": [
    {
     "data": {
      "text/plain": [
       "MultiOutputRegressor(estimator=XGBRegressor(base_score=None, booster=None,\n",
       "                                            callbacks=None,\n",
       "                                            colsample_bylevel=None,\n",
       "                                            colsample_bynode=None,\n",
       "                                            colsample_bytree=None, device=None,\n",
       "                                            early_stopping_rounds=None,\n",
       "                                            enable_categorical=False,\n",
       "                                            eval_metric=None,\n",
       "                                            feature_types=None, gamma=None,\n",
       "                                            grow_policy=None,\n",
       "                                            importance_type=None,\n",
       "                                            interaction_constraints=None,\n",
       "                                            learning_rate=0.05, max_bin=None,\n",
       "                                            max_cat_threshold=None,\n",
       "                                            max_cat_to_onehot=None,\n",
       "                                            max_delta_step=None, max_depth=10,\n",
       "                                            max_leaves=None,\n",
       "                                            min_child_weight=None, missing=nan,\n",
       "                                            monotone_constraints=None,\n",
       "                                            multi_strategy=None,\n",
       "                                            n_estimators=300, n_jobs=-1,\n",
       "                                            num_parallel_tree=None,\n",
       "                                            random_state=42, ...))"
      ]
     },
     "execution_count": 59,
     "metadata": {},
     "output_type": "execute_result"
    }
   ],
   "source": [
    "xgb_model = xgb.XGBRegressor(\n",
    "    objective='reg:squarederror',\n",
    "    n_estimators=300,\n",
    "    max_depth=15,\n",
    "    learning_rate=0.05,\n",
    "    n_jobs=-1,\n",
    "    random_state=42\n",
    ")\n",
    "\n",
    "multioutput_model = MultiOutputRegressor(xgb_model)\n",
    "multioutput_model.fit(X, y)"
   ]
  },
  {
   "cell_type": "code",
   "execution_count": null,
   "id": "9f028bc2",
   "metadata": {},
   "outputs": [
    {
     "name": "stdout",
     "output_type": "stream",
     "text": [
      "Mean Absolute Error (Overall): 0.0835\n"
     ]
    }
   ],
   "source": [
    "y_pred = multioutput_model.predict(X_test)\n",
    "\n",
    "mae = mean_absolute_error(y_test, y_pred)\n",
    "print(f\"Mean Absolute Error (Overall): {mae:.4f}\")"
   ]
  },
  {
   "cell_type": "code",
   "execution_count": null,
   "id": "5ed6ebe8",
   "metadata": {},
   "outputs": [
    {
     "name": "stdout",
     "output_type": "stream",
     "text": [
      "call_iv_23500: MAE = 0.1039\n",
      "call_iv_23600: MAE = 0.0870\n",
      "call_iv_23700: MAE = 0.0778\n",
      "call_iv_23800: MAE = 0.0611\n",
      "call_iv_23900: MAE = 0.0460\n",
      "call_iv_24000: MAE = 0.0378\n",
      "call_iv_24100: MAE = 0.0260\n",
      "call_iv_24200: MAE = 0.0168\n",
      "call_iv_24300: MAE = 0.0120\n",
      "call_iv_24400: MAE = 0.0147\n",
      "call_iv_24500: MAE = 0.0224\n",
      "call_iv_24600: MAE = 0.0316\n",
      "call_iv_24700: MAE = 0.0418\n",
      "call_iv_24800: MAE = 0.0520\n",
      "call_iv_24900: MAE = 0.0626\n",
      "call_iv_25000: MAE = 0.0728\n",
      "call_iv_25100: MAE = 0.0840\n",
      "call_iv_25200: MAE = 0.0946\n",
      "call_iv_25300: MAE = 0.1048\n",
      "call_iv_25400: MAE = 0.1154\n",
      "call_iv_25500: MAE = 0.1243\n",
      "call_iv_25600: MAE = 0.1343\n",
      "call_iv_25700: MAE = 0.1444\n",
      "call_iv_25800: MAE = 0.1534\n",
      "call_iv_25900: MAE = 0.1630\n",
      "call_iv_26000: MAE = 0.1722\n",
      "put_iv_22500: MAE = 0.1981\n",
      "put_iv_22600: MAE = 0.1878\n",
      "put_iv_22700: MAE = 0.1771\n",
      "put_iv_22800: MAE = 0.1668\n",
      "put_iv_22900: MAE = 0.1567\n",
      "put_iv_23000: MAE = 0.1466\n",
      "put_iv_23100: MAE = 0.1370\n",
      "put_iv_23200: MAE = 0.1268\n",
      "put_iv_23300: MAE = 0.1164\n",
      "put_iv_23400: MAE = 0.1060\n",
      "put_iv_23500: MAE = 0.0956\n",
      "put_iv_23600: MAE = 0.0847\n",
      "put_iv_23700: MAE = 0.0738\n",
      "put_iv_23800: MAE = 0.0626\n",
      "put_iv_23900: MAE = 0.0510\n",
      "put_iv_24000: MAE = 0.0393\n",
      "put_iv_24100: MAE = 0.0275\n",
      "put_iv_24200: MAE = 0.0173\n",
      "put_iv_24300: MAE = 0.0121\n",
      "put_iv_24400: MAE = 0.0144\n",
      "put_iv_24500: MAE = 0.0223\n",
      "put_iv_24600: MAE = 0.0299\n",
      "put_iv_24700: MAE = 0.0408\n",
      "put_iv_24800: MAE = 0.0514\n",
      "put_iv_24900: MAE = 0.0642\n",
      "put_iv_25000: MAE = 0.0789\n"
     ]
    }
   ],
   "source": [
    "per_column_mae = mean_absolute_error(y_test, y_pred, multioutput='raw_values')\n",
    "for col, error in zip(y.columns, per_column_mae):\n",
    "    print(f\"{col}: MAE = {error:.4f}\")"
   ]
  },
  {
   "cell_type": "code",
   "execution_count": null,
   "id": "b2993c47",
   "metadata": {},
   "outputs": [],
   "source": []
  },
  {
   "cell_type": "markdown",
   "id": "71108012",
   "metadata": {},
   "source": [
    "# Result on test data"
   ]
  },
  {
   "cell_type": "code",
   "execution_count": null,
   "id": "0583cf0e",
   "metadata": {},
   "outputs": [],
   "source": [
    "test_df = pd.read_parquet(f'test_data.parquet')\n",
    "print(len(test_df))"
   ]
  },
  {
   "cell_type": "code",
   "execution_count": null,
   "id": "8d18eaa6",
   "metadata": {},
   "outputs": [],
   "source": [
    "y_test = test_df[iv_cols]\n",
    "X_test = test_df.drop(columns=iv_cols)"
   ]
  },
  {
   "cell_type": "code",
   "execution_count": 60,
   "id": "ef936855",
   "metadata": {},
   "outputs": [
    {
     "name": "stdout",
     "output_type": "stream",
     "text": [
      "Mean Squared Error (Overall): 0.0241\n"
     ]
    }
   ],
   "source": [
    "y_pred = multioutput_model.predict(X_test)\n",
    "\n",
    "mse = mean_squared_error(y_test, y_pred)\n",
    "print(f\"Mean Squared Error (Overall): {mse:.4f}\")"
   ]
  }
 ],
 "metadata": {
  "kernelspec": {
   "display_name": "base",
   "language": "python",
   "name": "python3"
  },
  "language_info": {
   "codemirror_mode": {
    "name": "ipython",
    "version": 3
   },
   "file_extension": ".py",
   "mimetype": "text/x-python",
   "name": "python",
   "nbconvert_exporter": "python",
   "pygments_lexer": "ipython3",
   "version": "3.9.12"
  }
 },
 "nbformat": 4,
 "nbformat_minor": 5
}
